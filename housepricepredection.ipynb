{
  "nbformat": 4,
  "nbformat_minor": 0,
  "metadata": {
    "colab": {
      "name": "housepricepredection.ipynb",
      "provenance": [],
      "collapsed_sections": [],
      "include_colab_link": true
    },
    "kernelspec": {
      "name": "python3",
      "display_name": "Python 3"
    },
    "language_info": {
      "name": "python"
    }
  },
  "cells": [
    {
      "cell_type": "markdown",
      "metadata": {
        "id": "view-in-github",
        "colab_type": "text"
      },
      "source": [
        "<a href=\"https://colab.research.google.com/github/BaalouReda/house-price-predection/blob/main/housepricepredection.ipynb\" target=\"_parent\"><img src=\"https://colab.research.google.com/assets/colab-badge.svg\" alt=\"Open In Colab\"/></a>"
      ]
    },
    {
      "cell_type": "code",
      "execution_count": null,
      "metadata": {
        "id": "ieIvT4mFyftn"
      },
      "outputs": [],
      "source": [
        "import pandas as pd\n",
        "df=pd.read_csv('train(1).csv')"
      ]
    },
    {
      "cell_type": "code",
      "source": [
        "\n",
        "X = df.drop('SalePrice', 1)\n",
        "y = df.SalePrice"
      ],
      "metadata": {
        "colab": {
          "base_uri": "https://localhost:8080/"
        },
        "id": "SaWJFxj2y_Wt",
        "outputId": "7a8e2d2f-433f-4c2b-aa7b-ae1bc3c4af93"
      },
      "execution_count": null,
      "outputs": [
        {
          "output_type": "stream",
          "name": "stderr",
          "text": [
            "/usr/local/lib/python3.7/dist-packages/ipykernel_launcher.py:2: FutureWarning: In a future version of pandas all arguments of DataFrame.drop except for the argument 'labels' will be keyword-only\n",
            "  \n"
          ]
        }
      ]
    },
    {
      "cell_type": "code",
      "source": [
        "X.isnull().sum().sort_values(ascending=False).head()"
      ],
      "metadata": {
        "colab": {
          "base_uri": "https://localhost:8080/"
        },
        "id": "XCBplAcpz0Hw",
        "outputId": "fdf8c1fe-c2b7-4ef9-a755-68ea9c749993"
      },
      "execution_count": null,
      "outputs": [
        {
          "output_type": "execute_result",
          "data": {
            "text/plain": [
              "PoolQC         1453\n",
              "MiscFeature    1406\n",
              "Alley          1369\n",
              "Fence          1179\n",
              "FireplaceQu     690\n",
              "dtype: int64"
            ]
          },
          "metadata": {},
          "execution_count": 97
        }
      ]
    },
    {
      "cell_type": "code",
      "source": [
        "for k in ['PoolQC','MiscFeature','Alley','Fence'] :\n",
        "  X=X.drop(k,1)"
      ],
      "metadata": {
        "colab": {
          "base_uri": "https://localhost:8080/"
        },
        "id": "ksJTjQ0K0DFE",
        "outputId": "9cdad1dc-62cb-46ed-aae0-c63b3ac20f3f"
      },
      "execution_count": null,
      "outputs": [
        {
          "output_type": "stream",
          "name": "stderr",
          "text": [
            "/usr/local/lib/python3.7/dist-packages/ipykernel_launcher.py:2: FutureWarning: In a future version of pandas all arguments of DataFrame.drop except for the argument 'labels' will be keyword-only\n",
            "  \n"
          ]
        }
      ]
    },
    {
      "cell_type": "code",
      "source": [
        "import numpy as np\n",
        "from sklearn.impute import SimpleImputer\n",
        "\n",
        "imp = SimpleImputer(missing_values=np.nan, strategy='most_frequent')\n",
        "imp.fit(X)\n",
        "X = pd.DataFrame(data=imp.transform(X) , columns=X.columns)"
      ],
      "metadata": {
        "id": "4Dc-eN0O0KmT"
      },
      "execution_count": null,
      "outputs": []
    },
    {
      "cell_type": "code",
      "source": [
        "# Decide which categorical variables you want to use in model\n",
        "for col_name in X.columns:\n",
        "    if X[col_name].dtypes == 'object':\n",
        "        unique_cat = len(X[col_name].unique())\n",
        "        print(\"Feature '{col_name}' has {unique_cat} unique categories\".format(col_name=col_name, unique_cat=unique_cat))"
      ],
      "metadata": {
        "colab": {
          "base_uri": "https://localhost:8080/"
        },
        "id": "ck1SLx-00oiP",
        "outputId": "c3382dab-dde4-4b16-c70f-15923668d7ee"
      },
      "execution_count": null,
      "outputs": [
        {
          "output_type": "stream",
          "name": "stdout",
          "text": [
            "Feature 'Id' has 1460 unique categories\n",
            "Feature 'MSSubClass' has 15 unique categories\n",
            "Feature 'MSZoning' has 5 unique categories\n",
            "Feature 'LotFrontage' has 110 unique categories\n",
            "Feature 'LotArea' has 1073 unique categories\n",
            "Feature 'Street' has 2 unique categories\n",
            "Feature 'LotShape' has 4 unique categories\n",
            "Feature 'LandContour' has 4 unique categories\n",
            "Feature 'Utilities' has 2 unique categories\n",
            "Feature 'LotConfig' has 5 unique categories\n",
            "Feature 'LandSlope' has 3 unique categories\n",
            "Feature 'Neighborhood' has 25 unique categories\n",
            "Feature 'Condition1' has 9 unique categories\n",
            "Feature 'Condition2' has 8 unique categories\n",
            "Feature 'BldgType' has 5 unique categories\n",
            "Feature 'HouseStyle' has 8 unique categories\n",
            "Feature 'OverallQual' has 10 unique categories\n",
            "Feature 'OverallCond' has 9 unique categories\n",
            "Feature 'YearBuilt' has 112 unique categories\n",
            "Feature 'YearRemodAdd' has 61 unique categories\n",
            "Feature 'RoofStyle' has 6 unique categories\n",
            "Feature 'RoofMatl' has 8 unique categories\n",
            "Feature 'Exterior1st' has 15 unique categories\n",
            "Feature 'Exterior2nd' has 16 unique categories\n",
            "Feature 'MasVnrType' has 4 unique categories\n",
            "Feature 'MasVnrArea' has 327 unique categories\n",
            "Feature 'ExterQual' has 4 unique categories\n",
            "Feature 'ExterCond' has 5 unique categories\n",
            "Feature 'Foundation' has 6 unique categories\n",
            "Feature 'BsmtQual' has 4 unique categories\n",
            "Feature 'BsmtCond' has 4 unique categories\n",
            "Feature 'BsmtExposure' has 4 unique categories\n",
            "Feature 'BsmtFinType1' has 6 unique categories\n",
            "Feature 'BsmtFinSF1' has 637 unique categories\n",
            "Feature 'BsmtFinType2' has 6 unique categories\n",
            "Feature 'BsmtFinSF2' has 144 unique categories\n",
            "Feature 'BsmtUnfSF' has 780 unique categories\n",
            "Feature 'TotalBsmtSF' has 721 unique categories\n",
            "Feature 'Heating' has 6 unique categories\n",
            "Feature 'HeatingQC' has 5 unique categories\n",
            "Feature 'CentralAir' has 2 unique categories\n",
            "Feature 'Electrical' has 5 unique categories\n",
            "Feature '1stFlrSF' has 753 unique categories\n",
            "Feature '2ndFlrSF' has 417 unique categories\n",
            "Feature 'LowQualFinSF' has 24 unique categories\n",
            "Feature 'GrLivArea' has 861 unique categories\n",
            "Feature 'BsmtFullBath' has 4 unique categories\n",
            "Feature 'BsmtHalfBath' has 3 unique categories\n",
            "Feature 'FullBath' has 4 unique categories\n",
            "Feature 'HalfBath' has 3 unique categories\n",
            "Feature 'BedroomAbvGr' has 8 unique categories\n",
            "Feature 'KitchenAbvGr' has 4 unique categories\n",
            "Feature 'KitchenQual' has 4 unique categories\n",
            "Feature 'TotRmsAbvGrd' has 12 unique categories\n",
            "Feature 'Functional' has 7 unique categories\n",
            "Feature 'Fireplaces' has 4 unique categories\n",
            "Feature 'FireplaceQu' has 5 unique categories\n",
            "Feature 'GarageType' has 6 unique categories\n",
            "Feature 'GarageYrBlt' has 97 unique categories\n",
            "Feature 'GarageFinish' has 3 unique categories\n",
            "Feature 'GarageCars' has 5 unique categories\n",
            "Feature 'GarageArea' has 441 unique categories\n",
            "Feature 'GarageQual' has 5 unique categories\n",
            "Feature 'GarageCond' has 5 unique categories\n",
            "Feature 'PavedDrive' has 3 unique categories\n",
            "Feature 'WoodDeckSF' has 274 unique categories\n",
            "Feature 'OpenPorchSF' has 202 unique categories\n",
            "Feature 'EnclosedPorch' has 120 unique categories\n",
            "Feature '3SsnPorch' has 20 unique categories\n",
            "Feature 'ScreenPorch' has 76 unique categories\n",
            "Feature 'PoolArea' has 8 unique categories\n",
            "Feature 'MiscVal' has 21 unique categories\n",
            "Feature 'MoSold' has 12 unique categories\n",
            "Feature 'YrSold' has 5 unique categories\n",
            "Feature 'SaleType' has 9 unique categories\n",
            "Feature 'SaleCondition' has 6 unique categories\n"
          ]
        }
      ]
    },
    {
      "cell_type": "code",
      "source": [
        "# Function to dummy all the categorical variables used for modeling\n",
        "def dummy_df(df, todummy_list):\n",
        "    for x in todummy_list:\n",
        "        dummies = pd.get_dummies(df[x], prefix=x, dummy_na=False)\n",
        "        df = df.drop(x, 1)\n",
        "        df = pd.concat([df, dummies], axis=1)\n",
        "    return df"
      ],
      "metadata": {
        "id": "DDxJ_9qA0wiq"
      },
      "execution_count": null,
      "outputs": []
    },
    {
      "cell_type": "code",
      "source": [
        "todummy_list=['MSZoning', 'Street' , 'LotShape' \n",
        ", 'LandContour' \n",
        ", 'Utilities' \n",
        ", 'LotConfig' \n",
        ", 'LandSlope' \n",
        ", 'Neighborhood' \n",
        ", 'Condition1'\n",
        ", 'Condition2' \n",
        ", 'BldgType' \n",
        ", 'HouseStyle' \n",
        ", 'RoofStyle' \n",
        ", 'RoofMatl' \n",
        ", 'Exterior1st'\n",
        ", 'Exterior2nd'\n",
        ", 'MasVnrType' \n",
        ", 'ExterQual' \n",
        ", 'ExterCond' \n",
        ", 'Foundation' \n",
        ", 'BsmtQual' \n",
        ", 'BsmtCond' \n",
        ", 'BsmtExposure' \n",
        ", 'BsmtFinType1' \n",
        ", 'BsmtFinType2' \n",
        ", 'Heating' \n",
        ", 'HeatingQC' \n",
        ", 'CentralAir' \n",
        ", 'Electrical' \n",
        ", 'KitchenQual' \n",
        ", 'Functional' \n",
        ", 'FireplaceQu' \n",
        ", 'GarageType' \n",
        ", 'GarageFinish' \n",
        ", 'GarageQual'\n",
        ", 'GarageCond'\n",
        ", 'PavedDrive' \n",
        ", 'SaleType'\n",
        ", 'SaleCondition' ]\n",
        "X = dummy_df(X, todummy_list)\n",
        "print(X.head(5))"
      ],
      "metadata": {
        "colab": {
          "base_uri": "https://localhost:8080/"
        },
        "id": "0MrEHPwg00rA",
        "outputId": "04c868f9-8422-4483-e66b-68fe2ed321fd"
      },
      "execution_count": null,
      "outputs": [
        {
          "output_type": "stream",
          "name": "stderr",
          "text": [
            "/usr/local/lib/python3.7/dist-packages/ipykernel_launcher.py:5: FutureWarning: In a future version of pandas all arguments of DataFrame.drop except for the argument 'labels' will be keyword-only\n",
            "  \"\"\"\n"
          ]
        },
        {
          "output_type": "stream",
          "name": "stdout",
          "text": [
            "  Id MSSubClass LotFrontage LotArea OverallQual OverallCond YearBuilt  \\\n",
            "0  1         60        65.0    8450           7           5      2003   \n",
            "1  2         20        80.0    9600           6           8      1976   \n",
            "2  3         60        68.0   11250           7           5      2001   \n",
            "3  4         70        60.0    9550           7           5      1915   \n",
            "4  5         60        84.0   14260           8           5      2000   \n",
            "\n",
            "  YearRemodAdd MasVnrArea BsmtFinSF1  ... SaleType_ConLw SaleType_New  \\\n",
            "0         2003      196.0        706  ...              0            0   \n",
            "1         1976        0.0        978  ...              0            0   \n",
            "2         2002      162.0        486  ...              0            0   \n",
            "3         1970        0.0        216  ...              0            0   \n",
            "4         2000      350.0        655  ...              0            0   \n",
            "\n",
            "  SaleType_Oth SaleType_WD SaleCondition_Abnorml SaleCondition_AdjLand  \\\n",
            "0            0           1                     0                     0   \n",
            "1            0           1                     0                     0   \n",
            "2            0           1                     0                     0   \n",
            "3            0           1                     1                     0   \n",
            "4            0           1                     0                     0   \n",
            "\n",
            "  SaleCondition_Alloca SaleCondition_Family SaleCondition_Normal  \\\n",
            "0                    0                    0                    1   \n",
            "1                    0                    0                    1   \n",
            "2                    0                    0                    1   \n",
            "3                    0                    0                    0   \n",
            "4                    0                    0                    1   \n",
            "\n",
            "  SaleCondition_Partial  \n",
            "0                     0  \n",
            "1                     0  \n",
            "2                     0  \n",
            "3                     0  \n",
            "4                     0  \n",
            "\n",
            "[5 rows x 276 columns]\n"
          ]
        }
      ]
    },
    {
      "cell_type": "code",
      "source": [
        "\n",
        "from sklearn.model_selection import train_test_split\n",
        "X_train, X_test, y_train, y_test = train_test_split(X, y, train_size=0.7, random_state=1)"
      ],
      "metadata": {
        "id": "bPBN0TNA074G"
      },
      "execution_count": null,
      "outputs": []
    },
    {
      "cell_type": "code",
      "source": [
        "from  sklearn.linear_model import Ridge\n",
        "from sklearn.linear_model import ElasticNet\n",
        "\n",
        "Lr=Ridge()\n",
        "Lr.fit(X_train, y_train)"
      ],
      "metadata": {
        "colab": {
          "base_uri": "https://localhost:8080/"
        },
        "id": "gKHNMGeQ1OWM",
        "outputId": "3705160c-d3f5-473a-c1ef-5121ab8690c5"
      },
      "execution_count": null,
      "outputs": [
        {
          "output_type": "execute_result",
          "data": {
            "text/plain": [
              "Ridge()"
            ]
          },
          "metadata": {},
          "execution_count": 104
        }
      ]
    },
    {
      "cell_type": "code",
      "source": [
        "pred_train_Lr= Lr.predict(X_train)\n",
        "from sklearn.metrics import r2_score\n",
        "\n",
        "from sklearn.model_selection import train_test_split\n",
        "\n",
        "from sklearn.metrics import mean_squared_error\n",
        "\n",
        "from math import sqrt\n",
        "print(np.sqrt(mean_squared_error(y_train,pred_train_Lr)))\n",
        "\n",
        "print(r2_score(y_train, pred_train_Lr))\n",
        "\n",
        "\n",
        "pred_test_Lr= Lr.predict(X_test)\n",
        "\n",
        "print(np.sqrt(mean_squared_error(y_test,pred_test_Lr))) \n",
        "\n",
        "print(r2_score(y_test, pred_test_Lr))"
      ],
      "metadata": {
        "colab": {
          "base_uri": "https://localhost:8080/"
        },
        "id": "tbvgc-917MKc",
        "outputId": "70243292-9d7c-4643-8bd1-36b7c6d81ecd"
      },
      "execution_count": null,
      "outputs": [
        {
          "output_type": "stream",
          "name": "stdout",
          "text": [
            "21948.464465325265\n",
            "0.9189667368147674\n",
            "30129.51809933784\n",
            "0.8729569964776456\n"
          ]
        }
      ]
    },
    {
      "cell_type": "code",
      "source": [
        ""
      ],
      "metadata": {
        "id": "AzgfMbL1766K"
      },
      "execution_count": null,
      "outputs": []
    }
  ]
}